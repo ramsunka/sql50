{
 "cells": [
  {
   "cell_type": "code",
   "execution_count": null,
   "id": "73a16618",
   "metadata": {},
   "outputs": [],
   "source": [
    "#SQL - Leet code 50 Link : https://leetcode.com/studyplan/top-sql-50/"
   ]
  },
  {
   "cell_type": "code",
   "execution_count": null,
   "id": "f8f64bc4",
   "metadata": {},
   "outputs": [],
   "source": [
    "#https://leetcode.com/problems/recyclable-and-low-fat-products/description/\n",
    "\n",
    "select product_id from Products\n",
    "where low_fats = 'Y' and recyclable ='Y'"
   ]
  },
  {
   "cell_type": "code",
   "execution_count": null,
   "id": "870cf28f",
   "metadata": {},
   "outputs": [],
   "source": [
    "#https://leetcode.com/problems/find-customer-referee/description/\n",
    "\n",
    "SELECT name FROM Customer\n",
    "WHERE referee_id != 2 OR referee_id IS NULL;"
   ]
  },
  {
   "cell_type": "code",
   "execution_count": null,
   "id": "619741fd",
   "metadata": {},
   "outputs": [],
   "source": [
    "#https://leetcode.com/problems/big-countries/description/\n",
    "\n",
    "select name,population,area\n",
    "from World\n",
    "where area>='3000000 ' or population >= '25000000'"
   ]
  },
  {
   "cell_type": "code",
   "execution_count": null,
   "id": "a41bbdc6",
   "metadata": {},
   "outputs": [],
   "source": [
    "#https://leetcode.com/problems/article-views-i/\n",
    "\n",
    "select author_id id\n",
    "from Views \n",
    "where author_id = viewer_id \n",
    "group by id\n",
    "order by id asc"
   ]
  },
  {
   "cell_type": "code",
   "execution_count": null,
   "id": "1b383852",
   "metadata": {},
   "outputs": [],
   "source": [
    "#https://leetcode.com/problems/invalid-tweets/description/\n",
    "\n",
    "select tweet_id from Tweets where length(content) > 15"
   ]
  },
  {
   "cell_type": "code",
   "execution_count": null,
   "id": "f8c4e6f4",
   "metadata": {},
   "outputs": [],
   "source": [
    "#https://leetcode.com/problems/replace-employee-id-with-the-unique-identifier/description/\n",
    "\n",
    "select eu.unique_id, e.name\n",
    "from Employees e\n",
    "left join EmployeeUNI eu on e.id = eu.id "
   ]
  },
  {
   "cell_type": "code",
   "execution_count": null,
   "id": "31786a2b",
   "metadata": {},
   "outputs": [],
   "source": [
    "#https://leetcode.com/problems/product-sales-analysis-i/description/\n",
    "\n",
    "select \n",
    "p.product_name, \n",
    "s.year, \n",
    "s.price\n",
    "from Sales s\n",
    "join Product p on s.product_id = p.product_id"
   ]
  },
  {
   "cell_type": "code",
   "execution_count": null,
   "id": "f6107773",
   "metadata": {},
   "outputs": [],
   "source": [
    "#https://leetcode.com/problems/customer-who-visited-but-did-not-make-any-transactions/\n",
    "\n",
    "select v.customer_id,count(v.visit_id) as count_no_trans \n",
    "from Visits v\n",
    "left join Transactions t on v.visit_id=t.visit_id\n",
    "where t.transaction_id is null\n",
    "group by v.customer_id"
   ]
  },
  {
   "cell_type": "code",
   "execution_count": null,
   "id": "7c21a1a6",
   "metadata": {},
   "outputs": [],
   "source": [
    "#https://leetcode.com/problems/rising-temperature/description/\n",
    "\n",
    "SELECT w1.id\n",
    "FROM Weather w1\n",
    "JOIN Weather w2 ON DATE(w1.recordDate) = DATE(w2.recordDate) + INTERVAL 1 DAY\n",
    "WHERE w1.temperature > w2.temperature;"
   ]
  },
  {
   "cell_type": "code",
   "execution_count": null,
   "id": "8594d2cc",
   "metadata": {},
   "outputs": [],
   "source": [
    "#https://leetcode.com/problems/average-time-of-process-per-machine/description/\n",
    "\n",
    "SELECT \n",
    "    machine_id,\n",
    "\tROUND(SUM(CASE WHEN activity_type='start' THEN timestamp*-1 ELSE timestamp END)*1.0\n",
    "    / (SELECT COUNT(DISTINCT process_id)),3) as processing_time\n",
    "FROM \n",
    "Activity \n",
    "GROUP BY machine_id"
   ]
  },
  {
   "cell_type": "code",
   "execution_count": null,
   "id": "f97c0e46",
   "metadata": {},
   "outputs": [],
   "source": [
    "#https://leetcode.com/problems/employee-bonus/description/\n",
    "\n",
    "select e.name,b.bonus \n",
    "from\n",
    "Employee e\n",
    "left join Bonus b on e.empId = b.empId\n",
    "where b.bonus  < 1000 or b.bonus  is null"
   ]
  },
  {
   "cell_type": "code",
   "execution_count": null,
   "id": "d2400bc6",
   "metadata": {},
   "outputs": [],
   "source": [
    "#https://leetcode.com/problems/students-and-examinations/description/\n",
    "\n",
    "select \n",
    "s.student_id,s.student_name,sub.subject_name,count(e.student_id) AS attended_exams\n",
    "from Students s\n",
    "cross join Subjects sub \n",
    "left join Examinations e on e.student_id = s.student_id and e.subject_name = sub.subject_name\n",
    "group by s.student_id,s.student_name,sub.subject_name\n",
    "order by s.student_id,sub.subject_name"
   ]
  },
  {
   "cell_type": "code",
   "execution_count": null,
   "id": "d58477b7",
   "metadata": {},
   "outputs": [],
   "source": [
    "#https://leetcode.com/problems/managers-with-at-least-5-direct-reports/description/\n",
    "\n",
    "with cte as \n",
    " (\n",
    "    select managerId  from Employee group by managerId  having count(*) >=5\n",
    " )\n",
    "\n",
    "select name from employee as e\n",
    " join cte as c on c.managerid = e.id"
   ]
  },
  {
   "cell_type": "code",
   "execution_count": null,
   "id": "c066e8e7",
   "metadata": {},
   "outputs": [],
   "source": [
    "#https://leetcode.com/problems/confirmation-rate/submissions/1499041750/\n",
    "\n",
    "with cte as (\n",
    "select s.user_id,c.action\n",
    "from Confirmations c\n",
    "right join Signups s on s.user_id = c.user_id)\n",
    "\n",
    "select user_id,\n",
    "round( sum(case when action ='confirmed' then 1 else 0  end)/count(user_id),2) as confirmation_rate \n",
    "from cte  \n",
    "group by user_id"
   ]
  }
 ],
 "metadata": {
  "kernelspec": {
   "display_name": "Python 3 (ipykernel)",
   "language": "python",
   "name": "python3"
  },
  "language_info": {
   "codemirror_mode": {
    "name": "ipython",
    "version": 3
   },
   "file_extension": ".py",
   "mimetype": "text/x-python",
   "name": "python",
   "nbconvert_exporter": "python",
   "pygments_lexer": "ipython3",
   "version": "3.8.0"
  }
 },
 "nbformat": 4,
 "nbformat_minor": 5
}
