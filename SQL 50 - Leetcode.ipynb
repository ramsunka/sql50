{
 "cells": [
  {
   "cell_type": "code",
   "execution_count": null,
   "id": "1cdb2db4",
   "metadata": {},
   "outputs": [],
   "source": [
    "#SQL - Leet code 50 Link : https://leetcode.com/studyplan/top-sql-50/"
   ]
  },
  {
   "cell_type": "code",
   "execution_count": null,
   "id": "848e1fcd",
   "metadata": {},
   "outputs": [],
   "source": [
    "#https://leetcode.com/problems/recyclable-and-low-fat-products/description/\n",
    "\n",
    "select product_id from Products\n",
    "where low_fats = 'Y' and recyclable ='Y'"
   ]
  },
  {
   "cell_type": "code",
   "execution_count": null,
   "id": "7f5c0076",
   "metadata": {},
   "outputs": [],
   "source": [
    "#https://leetcode.com/problems/find-customer-referee/description/\n",
    "\n",
    "SELECT name FROM Customer\n",
    "WHERE referee_id != 2 OR referee_id IS NULL;"
   ]
  },
  {
   "cell_type": "code",
   "execution_count": null,
   "id": "61cf99c3",
   "metadata": {},
   "outputs": [],
   "source": [
    "#https://leetcode.com/problems/big-countries/description/\n",
    "\n",
    "select name,population,area\n",
    "from World\n",
    "where area>='3000000 ' or population >= '25000000'"
   ]
  },
  {
   "cell_type": "code",
   "execution_count": null,
   "id": "d99f70ba",
   "metadata": {},
   "outputs": [],
   "source": [
    "#https://leetcode.com/problems/article-views-i/\n",
    "\n",
    "select author_id id\n",
    "from Views \n",
    "where author_id = viewer_id \n",
    "group by id\n",
    "order by id asc"
   ]
  },
  {
   "cell_type": "code",
   "execution_count": null,
   "id": "a3ce6a19",
   "metadata": {},
   "outputs": [],
   "source": [
    "#https://leetcode.com/problems/invalid-tweets/description/\n",
    "\n",
    "select tweet_id from Tweets where length(content) > 15"
   ]
  },
  {
   "cell_type": "code",
   "execution_count": null,
   "id": "946d34c9",
   "metadata": {},
   "outputs": [],
   "source": [
    "#https://leetcode.com/problems/replace-employee-id-with-the-unique-identifier/description/\n",
    "\n",
    "select eu.unique_id, e.name\n",
    "from Employees e\n",
    "left join EmployeeUNI eu on e.id = eu.id "
   ]
  },
  {
   "cell_type": "code",
   "execution_count": null,
   "id": "17696dcd",
   "metadata": {},
   "outputs": [],
   "source": [
    "#https://leetcode.com/problems/product-sales-analysis-i/description/\n",
    "\n",
    "select \n",
    "p.product_name, \n",
    "s.year, \n",
    "s.price\n",
    "from Sales s\n",
    "join Product p on s.product_id = p.product_id"
   ]
  },
  {
   "cell_type": "code",
   "execution_count": null,
   "id": "42fd03c8",
   "metadata": {},
   "outputs": [],
   "source": [
    "#https://leetcode.com/problems/customer-who-visited-but-did-not-make-any-transactions/\n",
    "\n",
    "select v.customer_id,count(v.visit_id) as count_no_trans \n",
    "from Visits v\n",
    "left join Transactions t on v.visit_id=t.visit_id\n",
    "where t.transaction_id is null\n",
    "group by v.customer_id"
   ]
  }
 ],
 "metadata": {
  "kernelspec": {
   "display_name": "Python 3 (ipykernel)",
   "language": "python",
   "name": "python3"
  },
  "language_info": {
   "codemirror_mode": {
    "name": "ipython",
    "version": 3
   },
   "file_extension": ".py",
   "mimetype": "text/x-python",
   "name": "python",
   "nbconvert_exporter": "python",
   "pygments_lexer": "ipython3",
   "version": "3.8.0"
  }
 },
 "nbformat": 4,
 "nbformat_minor": 5
}
